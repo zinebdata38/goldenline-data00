{
 "cells": [
  {
   "cell_type": "code",
   "execution_count": null,
   "id": "943ab11a",
   "metadata": {},
   "outputs": []
  },
  {
   "cell_type": "code",
   "execution_count": null,
   "id": "afc7fc1c",
   "metadata": {},
   "outputs": [],
   "source": [
    "from flask import Flask, render_template, redirect, url_for, request\n",
    "from flask_login import LoginManager, UserMixin, login_user, login_required, logout_user, current_user\n",
    "\n",
    "app = Flask(__name__)\n",
    "app.config['SECRET_KEY'] = 'your_secret_key'\n",
    "\n",
    "# Configurer Flask-Login\n",
    "login_manager = LoginManager()\n",
    "login_manager.init_app(app)\n",
    "login_manager.login_view = 'login'  # Vue à afficher pour la connexion\n",
    "\n",
    "# Modèle d'utilisateur de base avec Flask-Login\n",
    "class User(UserMixin):\n",
    "    def __init__(self, id):\n",
    "        self.id = id\n",
    "\n",
    "# Exemple d'une base de données d'utilisateurs\n",
    "users = {'user1': {'password': 'password1'}, 'user2': {'password': 'password2'}}\n",
    "\n",
    "# Gestion du chargement de l'utilisateur\n",
    "@login_manager.user_loader\n",
    "def load_user(user_id):\n",
    "    return User(user_id)\n",
    "\n",
    "@app.route('/login', methods=['GET', 'POST'])\n",
    "def login():\n",
    "    if request.method == 'POST':\n",
    "        username = request.form['username']\n",
    "        password = request.form['password']\n",
    "        if username in users and users[username]['password'] == password:\n",
    "            user = User(username)\n",
    "            login_user(user)\n",
    "            return redirect(url_for('dashboard'))\n",
    "        return 'Invalid credentials'\n",
    "    return render_template('login.html')\n",
    "\n",
    "@app.route('/dashboard')\n",
    "@login_required\n",
    "def dashboard():\n",
    "    return f'Hello, {current_user.id}! Welcome to your dashboard.'\n",
    "\n",
    "@app.route('/logout')\n",
    "@login_required\n",
    "def logout():\n",
    "    logout_user()\n",
    "    return redirect(url_for('login'))\n",
    "\n",
    "if __name__ == '__main__':\n",
    "    app.run(debug=False)\n"
   ]
  },
  {
   "cell_type": "code",
   "execution_count": 1,
   "id": "ce4d3dae",
   "metadata": {},
   "outputs": [
    {
     "name": "stdout",
     "output_type": "stream",
     "text": [
      "Requirement already satisfied: flask in /Users/zinebelg/opt/anaconda3/lib/python3.9/site-packages (1.1.2)\r\n",
      "Requirement already satisfied: flask-login in /Users/zinebelg/opt/anaconda3/lib/python3.9/site-packages (0.6.3)\r\n",
      "Requirement already satisfied: itsdangerous>=0.24 in /Users/zinebelg/opt/anaconda3/lib/python3.9/site-packages (from flask) (2.0.1)\r\n",
      "Requirement already satisfied: click>=5.1 in /Users/zinebelg/opt/anaconda3/lib/python3.9/site-packages (from flask) (8.0.4)\r\n",
      "Requirement already satisfied: Werkzeug>=0.15 in /Users/zinebelg/opt/anaconda3/lib/python3.9/site-packages (from flask) (2.0.3)\r\n",
      "Requirement already satisfied: Jinja2>=2.10.1 in /Users/zinebelg/opt/anaconda3/lib/python3.9/site-packages (from flask) (2.11.3)\r\n",
      "Requirement already satisfied: MarkupSafe>=0.23 in /Users/zinebelg/opt/anaconda3/lib/python3.9/site-packages (from Jinja2>=2.10.1->flask) (2.0.1)\r\n"
     ]
    }
   ],
   "source": [
    "!pip install flask flask-login\n"
   ]
  },
  {
   "cell_type": "code",
   "execution_count": 2,
   "id": "5cf0e301",
   "metadata": {},
   "outputs": [],
   "source": [
    "from flask import Flask, render_template, redirect, url_for, request\n",
    "from flask_login import LoginManager, UserMixin, login_user, login_required, logout_user, current_user\n",
    "\n",
    "app = Flask(__name__)\n",
    "app.config['SECRET_KEY'] = 'ta_clé_secrète'  # Remplace par une vraie clé secrète\n",
    "\n",
    "# Initialisation de Flask-Login\n",
    "login_manager = LoginManager()\n",
    "login_manager.init_app(app)\n",
    "login_manager.login_view = 'login'\n",
    "\n",
    "# Code pour gérer les utilisateurs et les routes va ici...\n"
   ]
  },
  {
   "cell_type": "code",
   "execution_count": null,
   "id": "fba2c435",
   "metadata": {},
   "outputs": [],
   "source": []
  }
 ],
 "metadata": {
  "kernelspec": {
   "display_name": "GoldenLine Env",
   "language": "python",
   "name": "goldenline"
  },
  "language_info": {
   "codemirror_mode": {
    "name": "ipython",
    "version": 3
   },
   "file_extension": ".py",
   "mimetype": "text/x-python",
   "name": "python",
   "nbconvert_exporter": "python",
   "pygments_lexer": "ipython3",
   "version": "3.9.20"
  }
 },
 "nbformat": 4,
 "nbformat_minor": 5
}
