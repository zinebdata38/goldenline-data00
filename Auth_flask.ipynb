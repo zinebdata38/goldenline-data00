{
 "cells": [
  {
   "cell_type": "code",
   "execution_count": null,
   "id": "943ab11a",
   "metadata": {},
   "outputs": [],
   "source": [
    "!pip install flask flask-login\n"
   ]
  },
  {
   "cell_type": "code",
   "execution_count": null,
   "id": "afc7fc1c",
   "metadata": {},
   "outputs": [],
   "source": [
    "from flask import Flask, render_template, redirect, url_for, request\n",
    "from flask_login import LoginManager, UserMixin, login_user, login_required, logout_user, current_user\n",
    "\n",
    "app = Flask(__name__)\n",
    "app.config['SECRET_KEY'] = 'your_secret_key'\n",
    "\n",
    "# Configurer Flask-Login\n",
    "login_manager = LoginManager()\n",
    "login_manager.init_app(app)\n",
    "login_manager.login_view = 'login'  # Vue à afficher pour la connexion\n",
    "\n",
    "# Modèle d'utilisateur de base avec Flask-Login\n",
    "class User(UserMixin):\n",
    "    def __init__(self, id):\n",
    "        self.id = id\n",
    "\n",
    "# Exemple d'une base de données d'utilisateurs\n",
    "users = {'user1': {'password': 'password1'}, 'user2': {'password': 'password2'}}\n",
    "\n",
    "# Gestion du chargement de l'utilisateur\n",
    "@login_manager.user_loader\n",
    "def load_user(user_id):\n",
    "    return User(user_id)\n",
    "\n",
    "@app.route('/login', methods=['GET', 'POST'])\n",
    "def login():\n",
    "    if request.method == 'POST':\n",
    "        username = request.form['username']\n",
    "        password = request.form['password']\n",
    "        if username in users and users[username]['password'] == password:\n",
    "            user = User(username)\n",
    "            login_user(user)\n",
    "            return redirect(url_for('dashboard'))\n",
    "        return 'Invalid credentials'\n",
    "    return render_template('login.html')\n",
    "\n",
    "@app.route('/dashboard')\n",
    "@login_required\n",
    "def dashboard():\n",
    "    return f'Hello, {current_user.id}! Welcome to your dashboard.'\n",
    "\n",
    "@app.route('/logout')\n",
    "@login_required\n",
    "def logout():\n",
    "    logout_user()\n",
    "    return redirect(url_for('login'))\n",
    "\n",
    "if __name__ == '__main__':\n",
    "    app.run(debug=True)\n"
   ]
  },
  {
   "cell_type": "code",
   "execution_count": null,
   "id": "ce4d3dae",
   "metadata": {},
   "outputs": [],
   "source": []
  }
 ],
 "metadata": {
  "kernelspec": {
   "display_name": "GoldenLine Env",
   "language": "python",
   "name": "goldenline"
  },
  "language_info": {
   "codemirror_mode": {
    "name": "ipython",
    "version": 3
   },
   "file_extension": ".py",
   "mimetype": "text/x-python",
   "name": "python",
   "nbconvert_exporter": "python",
   "pygments_lexer": "ipython3",
   "version": "3.9.20"
  }
 },
 "nbformat": 4,
 "nbformat_minor": 5
}
