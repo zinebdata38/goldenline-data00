{
 "cells": [
  {
   "cell_type": "code",
   "execution_count": null,
   "id": "943ab11a",
   "metadata": {},
   "outputs": [],
   "source": [
    "!pip install flask flask-login\n"
   ]
  },
  {
   "cell_type": "code",
   "execution_count": null,
   "id": "afc7fc1c",
   "metadata": {},
   "outputs": [],
   "source": [
    "from flask import Flask, render_template, redirect, url_for, request\n",
    "from flask_login import LoginManager, UserMixin, login_user, login_required, logout_user, current_user\n",
    "\n",
    "app = Flask(__name__)\n",
    "app.config['SECRET_KEY'] = 'your_secret_key'\n",
    "\n",
    "# Configurer Flask-Login\n",
    "login_manager = LoginManager()\n",
    "login_manager.init_app(app)\n",
    "login_manager.login_view = 'login'  # Vue à afficher pour la connexion\n",
    "\n",
    "# Modèle d'utilisateur de base avec Flask-Login\n",
    "class User(UserMixin):\n",
    "    def __init__(self, id):\n",
    "        self.id = id\n",
    "\n",
    "# Exemple d'une base de données d'utilisateurs\n",
    "users = {'user1': {'password': 'password1'}, 'user2': {'password': 'password2'}}\n",
    "\n",
    "# Gestion du chargement de l'utilisateur\n",
    "@login_manager.user_loader\n",
    "def load_user(user_id):\n",
    "    return User(user_id)\n",
    "\n",
    "@app.route('/login', methods=['GET', 'POST'])\n",
    "def login():\n",
    "    if request.method == 'POST':\n",
    "        username = request.form['username']\n",
    "        password = request.form['password']\n",
    "        if username in users and users[username]['password'] == password:\n",
    "            user = User(username)\n",
    "            login_user(user)\n",
    "            return redirect(url_for('dashboard'))\n",
    "        return 'Invalid credentials'\n",
    "    return render_template('login.html')\n",
    "\n",
    "@app.route('/dashboard')\n",
    "@login_required\n",
    "def dashboard():\n",
    "    return f'Hello, {current_user.id}! Welcome to your dashboard.'\n",
    "\n",
    "@app.route('/logout')\n",
    "@login_required\n",
    "def logout():\n",
    "    logout_user()\n",
    "    return redirect(url_for('login'))\n",
    "\n",
    "if __name__ == '__main__':\n",
    "    app.run(debug=True)\n"
   ]
  },
  {
   "cell_type": "code",
   "execution_count": 1,
   "id": "ce4d3dae",
   "metadata": {},
   "outputs": [
    {
     "name": "stdout",
     "output_type": "stream",
     "text": [
      "Requirement already satisfied: flask in /Users/zinebelg/opt/anaconda3/lib/python3.9/site-packages (1.1.2)\r\n",
      "Requirement already satisfied: flask-login in /Users/zinebelg/opt/anaconda3/lib/python3.9/site-packages (0.6.3)\r\n",
      "Requirement already satisfied: itsdangerous>=0.24 in /Users/zinebelg/opt/anaconda3/lib/python3.9/site-packages (from flask) (2.0.1)\r\n",
      "Requirement already satisfied: click>=5.1 in /Users/zinebelg/opt/anaconda3/lib/python3.9/site-packages (from flask) (8.0.4)\r\n",
      "Requirement already satisfied: Werkzeug>=0.15 in /Users/zinebelg/opt/anaconda3/lib/python3.9/site-packages (from flask) (2.0.3)\r\n",
      "Requirement already satisfied: Jinja2>=2.10.1 in /Users/zinebelg/opt/anaconda3/lib/python3.9/site-packages (from flask) (2.11.3)\r\n",
      "Requirement already satisfied: MarkupSafe>=0.23 in /Users/zinebelg/opt/anaconda3/lib/python3.9/site-packages (from Jinja2>=2.10.1->flask) (2.0.1)\r\n"
     ]
    }
   ],
   "source": [
    "!pip install flask flask-login\n"
   ]
  },
  {
   "cell_type": "code",
   "execution_count": 2,
   "id": "86ad3ade",
   "metadata": {},
   "outputs": [],
   "source": [
    "from flask import Flask, render_template, redirect, url_for, request\n",
    "from flask_login import LoginManager, UserMixin, login_user, login_required, logout_user, current_user\n",
    "\n",
    "app = Flask(__name__)\n",
    "app.config['SECRET_KEY'] = 'ta_clé_secrète'  # Remplace par une vraie clé secrète\n",
    "\n",
    "# Initialisation de Flask-Login\n",
    "login_manager = LoginManager()\n",
    "login_manager.init_app(app)\n",
    "login_manager.login_view = 'login'\n",
    "\n",
    "# Code pour gérer les utilisateurs et les routes va ici...\n"
   ]
  },
  {
   "cell_type": "markdown",
   "id": "9cf5e6df",
   "metadata": {},
   "source": [
    "\n",
    "\n",
    "Dans cette partie, on commence par importer les modules nécessaires et initialiser l application Flask.\n",
    "\n",
    "Flask(__name__) crée une nouvelle instance de l'application Flask.\n",
    "app.config['SECRET_KEY'] est utilisée pour définir une clé secrète qui permet de signer les cookies et de sécuriser les sessions. Remplace 'ta_clé_secrète' par une clé forte en production.\n",
    "login_manager = LoginManager() crée une instance de Flask-Login pour gérer l'authentification.\n",
    "login_manager.init_app(app) connecte Flask-Login à ton application Flask.\n",
    "login_manager.login_view = 'login' indique la route de connexion à utiliser lorsque l'utilisateur tente d'accéder à une page qui nécessite d'être connecté."
   ]
  },
  {
   "cell_type": "code",
   "execution_count": 3,
   "id": "499c878b",
   "metadata": {},
   "outputs": [],
   "source": [
    "class User(UserMixin):\n",
    "    def __init__(self, username):\n",
    "        self.id = username\n",
    "\n",
    "# Simuler une base de données d'utilisateurs\n",
    "users = {'user1': {'password': 'password123'}, 'user2': {'password': 'mypassword'}}\n"
   ]
  },
  {
   "cell_type": "markdown",
   "id": "0d90914f",
   "metadata": {},
   "source": [
    "Cette cellule définit un modèle utilisateur basique.\n",
    "\n",
    "User(UserMixin) : Crée une classe User qui hérite de UserMixin, fournissant des méthodes utiles pour l'authentification.\n",
    "self.id = username : Définit l'identifiant de l'utilisateur sur son nom d'utilisateur.\n",
    "La variable users simule une base de données d'utilisateurs avec des mots de passe. Dans une application réelle, tu utiliserais une base de données pour stocker ces informations."
   ]
  },
  {
   "cell_type": "code",
   "execution_count": 4,
   "id": "42109e9f",
   "metadata": {},
   "outputs": [],
   "source": [
    "@login_manager.user_loader\n",
    "def load_user(user_id):\n",
    "    return User(user_id)\n"
   ]
  },
  {
   "cell_type": "markdown",
   "id": "519600cd",
   "metadata": {},
   "source": [
    "Explication :\n",
    "Cette fonction est utilisée par Flask-Login pour charger un utilisateur à partir de son identifiant.\n",
    "\n",
    "@login_manager.user_loader : Ce décorateur indique à Flask-Login d'utiliser cette fonction pour charger un utilisateur donné.\n",
    "return User(user_id) : Cette ligne crée une instance de la classe User avec l'identifiant fourni."
   ]
  },
  {
   "cell_type": "code",
   "execution_count": 5,
   "id": "d1820516",
   "metadata": {},
   "outputs": [],
   "source": [
    "@app.route('/login', methods=['GET', 'POST'])\n",
    "def login():\n",
    "    if request.method == 'POST':\n",
    "        username = request.form['username']\n",
    "        password = request.form['password']\n",
    "        \n",
    "        if username in users and users[username]['password'] == password:\n",
    "            user = User(username)\n",
    "            login_user(user)\n",
    "            return redirect(url_for('dashboard'))\n",
    "        else:\n",
    "            return 'Nom d’utilisateur ou mot de passe incorrect'\n",
    "\n",
    "    return '''\n",
    "        <form method=\"post\">\n",
    "            Nom d'utilisateur: <input type=\"text\" name=\"username\"><br>\n",
    "            Mot de passe: <input type=\"password\" name=\"password\"><br>\n",
    "            <input type=\"submit\" value=\"Login\">\n",
    "        </form>\n",
    "    '''\n",
    "\n",
    "@app.route('/dashboard')\n",
    "@login_required\n",
    "def dashboard():\n",
    "    return 'Bienvenue dans le tableau de bord !'\n",
    "\n",
    "@app.route('/logout')\n",
    "@login_required\n",
    "def logout():\n",
    "    logout_user()\n",
    "    return redirect(url_for('login'))\n"
   ]
  },
  {
   "cell_type": "markdown",
   "id": "e680708d",
   "metadata": {},
   "source": [
    "Cette cellule définit trois routes : une pour le login, une pour le tableau de bord et une pour la déconnexion.\n",
    "\n",
    "@app.route('/login', methods=['GET', 'POST']) : Crée une route pour la page de connexion qui accepte les requêtes GET et POST.\n",
    "Si la méthode est POST, cela signifie que l'utilisateur a soumis le formulaire. Le code vérifie si le nom d'utilisateur et le mot de passe sont corrects. Si c'est le cas, l'utilisateur est connecté et redirigé vers le tableau de bord. Sinon, un message d'erreur s'affiche.\n",
    "La seconde route /dashboard est protégée par @login_required, ce qui signifie que seuls les utilisateurs connectés peuvent y accéder.\n",
    "La troisième route /logout déconnecte l'utilisateur et le redirige vers la page de connexion."
   ]
  },
  {
   "cell_type": "code",
   "execution_count": null,
   "id": "202f2d5f",
   "metadata": {},
   "outputs": [],
   "source": []
  }
 ],
 "metadata": {
  "kernelspec": {
   "display_name": "GoldenLine Env",
   "language": "python",
   "name": "goldenline"
  },
  "language_info": {
   "codemirror_mode": {
    "name": "ipython",
    "version": 3
   },
   "file_extension": ".py",
   "mimetype": "text/x-python",
   "name": "python",
   "nbconvert_exporter": "python",
   "pygments_lexer": "ipython3",
   "version": "3.9.20"
  }
 },
 "nbformat": 4,
 "nbformat_minor": 5
}
