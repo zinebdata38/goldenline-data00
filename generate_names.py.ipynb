{
 "cells": [
  {
   "cell_type": "code",
   "execution_count": 3,
   "id": "e370c654",
   "metadata": {},
   "outputs": [
    {
     "ename": "ModuleNotFoundError",
     "evalue": "No module named 'faker'",
     "output_type": "error",
     "traceback": [
      "\u001b[0;31m---------------------------------------------------------------------------\u001b[0m",
      "\u001b[0;31mModuleNotFoundError\u001b[0m                       Traceback (most recent call last)",
      "Cell \u001b[0;32mIn[3], line 2\u001b[0m\n\u001b[1;32m      1\u001b[0m \u001b[38;5;28;01mimport\u001b[39;00m \u001b[38;5;21;01mpandas\u001b[39;00m \u001b[38;5;28;01mas\u001b[39;00m \u001b[38;5;21;01mpd\u001b[39;00m\n\u001b[0;32m----> 2\u001b[0m \u001b[38;5;28;01mfrom\u001b[39;00m \u001b[38;5;21;01mfaker\u001b[39;00m \u001b[38;5;28;01mimport\u001b[39;00m Faker\n\u001b[1;32m      4\u001b[0m \u001b[38;5;66;03m# Initialiser Faker\u001b[39;00m\n\u001b[1;32m      5\u001b[0m fake \u001b[38;5;241m=\u001b[39m Faker()\n",
      "\u001b[0;31mModuleNotFoundError\u001b[0m: No module named 'faker'"
     ]
    }
   ],
   "source": [
    "import pandas as pd\n",
    "from faker import Faker\n",
    "\n",
    "# Initialiser Faker\n",
    "fake = Faker()\n",
    "\n",
    "# Nombre de noms à générer\n",
    "num_names = 100  # Remplace par le nombre de noms que tu souhaites\n",
    "\n",
    "# Générer les noms et prénoms\n",
    "data = {\n",
    "    'Nom': [fake.last_name() for _ in range(num_names)],\n",
    "    'Prénom': [fake.first_name() for _ in range(num_names)]\n",
    "}\n",
    "\n",
    "# Créer un DataFrame\n",
    "df = pd.DataFrame(data)\n",
    "\n",
    "# Sauvegarder dans un fichier CSV\n",
    "df.to_csv('noms_prenoms.csv', index=False)\n"
   ]
  },
  {
   "cell_type": "code",
   "execution_count": 4,
   "id": "7c4aabd7",
   "metadata": {},
   "outputs": [
    {
     "name": "stdout",
     "output_type": "stream",
     "text": [
      "Requirement already satisfied: faker in /Users/zinebelg/opt/anaconda3/lib/python3.9/site-packages (30.8.0)\r\n",
      "Requirement already satisfied: typing-extensions in /Users/zinebelg/opt/anaconda3/lib/python3.9/site-packages (from faker) (4.11.0)\r\n",
      "Requirement already satisfied: python-dateutil>=2.4 in /Users/zinebelg/opt/anaconda3/lib/python3.9/site-packages (from faker) (2.8.2)\r\n",
      "Requirement already satisfied: six>=1.5 in /Users/zinebelg/opt/anaconda3/lib/python3.9/site-packages (from python-dateutil>=2.4->faker) (1.16.0)\r\n"
     ]
    }
   ],
   "source": [
    "!pip install faker\n"
   ]
  },
  {
   "cell_type": "code",
   "execution_count": 5,
   "id": "22a754bd",
   "metadata": {},
   "outputs": [
    {
     "ename": "ModuleNotFoundError",
     "evalue": "No module named 'faker'",
     "output_type": "error",
     "traceback": [
      "\u001b[0;31m---------------------------------------------------------------------------\u001b[0m",
      "\u001b[0;31mModuleNotFoundError\u001b[0m                       Traceback (most recent call last)",
      "Cell \u001b[0;32mIn[5], line 2\u001b[0m\n\u001b[1;32m      1\u001b[0m \u001b[38;5;28;01mimport\u001b[39;00m \u001b[38;5;21;01mpandas\u001b[39;00m \u001b[38;5;28;01mas\u001b[39;00m \u001b[38;5;21;01mpd\u001b[39;00m\n\u001b[0;32m----> 2\u001b[0m \u001b[38;5;28;01mfrom\u001b[39;00m \u001b[38;5;21;01mfaker\u001b[39;00m \u001b[38;5;28;01mimport\u001b[39;00m Faker\n\u001b[1;32m      4\u001b[0m \u001b[38;5;66;03m# Initialiser Faker\u001b[39;00m\n\u001b[1;32m      5\u001b[0m fake \u001b[38;5;241m=\u001b[39m Faker()\n",
      "\u001b[0;31mModuleNotFoundError\u001b[0m: No module named 'faker'"
     ]
    }
   ],
   "source": [
    "import pandas as pd\n",
    "from faker import Faker\n",
    "\n",
    "# Initialiser Faker\n",
    "fake = Faker()\n",
    "\n",
    "# Nombre de noms à générer\n",
    "num_names = 100  # Remplace par le nombre de noms que tu souhaites\n",
    "\n",
    "# Générer les noms et prénoms\n",
    "data = {\n",
    "    'Nom': [fake.last_name() for _ in range(num_names)],\n",
    "    'Prénom': [fake.first_name() for _ in range(num_names)]\n",
    "}\n",
    "\n",
    "# Créer un DataFrame\n",
    "df = pd.DataFrame(data)\n",
    "\n",
    "# Sauvegarder dans un fichier CSV\n",
    "df.to_csv('noms_prenoms.csv', index=False)"
   ]
  },
  {
   "cell_type": "code",
   "execution_count": 7,
   "id": "c730cd9e",
   "metadata": {},
   "outputs": [
    {
     "name": "stdout",
     "output_type": "stream",
     "text": [
      "Fichier 'noms_prenoms.csv' créé avec succès !\n"
     ]
    }
   ],
   "source": [
    "import pandas as pd\n",
    "from faker import Faker\n",
    "\n",
    "# Initialiser Faker\n",
    "fake = Faker()\n",
    "\n",
    "# Nombre de noms à générer\n",
    "num_names = 100  # Remplace par le nombre de noms que tu souhaites\n",
    "\n",
    "# Générer les noms et prénoms\n",
    "data = {\n",
    "    'Nom': [fake.last_name() for _ in range(num_names)],\n",
    "    'Prénom': [fake.first_name() for _ in range(num_names)]\n",
    "}\n",
    "\n",
    "# Créer un DataFrame\n",
    "df = pd.DataFrame(data)\n",
    "\n",
    "# Sauvegarder dans un fichier CSV\n",
    "df.to_csv('noms_prenoms.csv', index=False)\n",
    "print(\"Fichier 'noms_prenoms.csv' créé avec succès !\")"
   ]
  },
  {
   "cell_type": "code",
   "execution_count": null,
   "id": "082a2da6",
   "metadata": {},
   "outputs": [],
   "source": []
  }
 ],
 "metadata": {
  "kernelspec": {
   "display_name": "GoldenLine Env",
   "language": "python",
   "name": "goldenline"
  },
  "language_info": {
   "codemirror_mode": {
    "name": "ipython",
    "version": 3
   },
   "file_extension": ".py",
   "mimetype": "text/x-python",
   "name": "python",
   "nbconvert_exporter": "python",
   "pygments_lexer": "ipython3",
   "version": "3.9.20"
  }
 },
 "nbformat": 4,
 "nbformat_minor": 5
}
